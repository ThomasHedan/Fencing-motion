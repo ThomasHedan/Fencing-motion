{
 "cells": [
  {
   "cell_type": "markdown",
   "metadata": {},
   "source": [
    "## 0. Install and Import Dependencies"
   ]
  },
  {
   "cell_type": "code",
   "execution_count": null,
   "metadata": {},
   "outputs": [],
   "source": [
    "!pip install mediapipe opencv-python"
   ]
  },
  {
   "cell_type": "markdown",
   "metadata": {},
   "source": [
    "## 1. small tests and discovery of cv2 and mediapipe"
   ]
  },
  {
   "cell_type": "code",
   "execution_count": 3,
   "metadata": {},
   "outputs": [],
   "source": [
    "import cv2\n",
    "import mediapipe as mp\n",
    "import numpy as np\n",
    "\n",
    "mp_drawing = mp.solutions.drawing_utils\n",
    "mp_pose = mp.solutions.pose"
   ]
  },
  {
   "cell_type": "markdown",
   "metadata": {},
   "source": [
    "#### 1.1 VIDEO FEED (type q to quit the video feed window)"
   ]
  },
  {
   "cell_type": "code",
   "execution_count": 79,
   "metadata": {},
   "outputs": [],
   "source": [
    "cap = cv2.VideoCapture(0)\n",
    "while cap.isOpened():\n",
    "    ret, frame = cap.read()\n",
    "    cv2.imshow('Mediapipe Feed', frame)\n",
    "    \n",
    "    if cv2.waitKey(10) & 0xFF == ord('q'):\n",
    "        break\n",
    "        \n",
    "cap.release()\n",
    "cv2.destroyAllWindows()"
   ]
  },
  {
   "cell_type": "markdown",
   "metadata": {},
   "source": [
    "#### 1. 2 use mediapipe to make detections"
   ]
  },
  {
   "cell_type": "code",
   "execution_count": 8,
   "metadata": {},
   "outputs": [],
   "source": [
    "\n",
    "\n",
    "## open a videoCapture\n",
    "\n",
    "cap = cv2.VideoCapture(0)\n",
    "\n",
    "## Setup mediapipe instance\n",
    "\n",
    "\n",
    "\n",
    "with mp_pose.Pose(min_detection_confidence=0.5, min_tracking_confidence=0.5) as pose:  ## https://google.github.io/mediapipe/solutions/pose.html\n",
    "    while cap.isOpened():\n",
    "        ret, frame = cap.read()  # return true if the cap(ture) is on\n",
    "        \n",
    "        # Recolor image to RGB\n",
    "        image = cv2.cvtColor(frame, cv2.COLOR_BGR2RGB)\n",
    "        image.flags.writeable = False\n",
    "      \n",
    "        # Make detection\n",
    "        results = pose.process(image)\n",
    "    \n",
    "        # Recolor back to BGR\n",
    "        image.flags.writeable = True\n",
    "        image = cv2.cvtColor(image, cv2.COLOR_RGB2BGR)\n",
    "        \n",
    "        # Render detections\n",
    "        mp_drawing.draw_landmarks(image, results.pose_landmarks, mp_pose.POSE_CONNECTIONS,\n",
    "                                mp_drawing.DrawingSpec(color=(245,117,66), thickness=2, circle_radius=2), \n",
    "                                mp_drawing.DrawingSpec(color=(245,66,230), thickness=2, circle_radius=2) \n",
    "                                 )               \n",
    "        \n",
    "        cv2.imshow('Mediapipe Feed', image)\n",
    "\n",
    "        if cv2.waitKey(10) & 0xFF == ord('q'):\n",
    "            break\n",
    "\n",
    "    cap.release()\n",
    "    cv2.destroyAllWindows()"
   ]
  },
  {
   "cell_type": "markdown",
   "metadata": {},
   "source": [
    "#### 1.3 tests on join detection/values"
   ]
  },
  {
   "cell_type": "markdown",
   "metadata": {},
   "source": [
    "<img src=\"https://i.imgur.com/3j8BPdc.png\" style=\"height:300px\" >"
   ]
  },
  {
   "cell_type": "code",
   "execution_count": 8,
   "metadata": {},
   "outputs": [
    {
     "name": "stdout",
     "output_type": "stream",
     "text": [
      "[x: 0.6221939325332642\n",
      "y: 0.6124671697616577\n",
      "z: -3.0374271869659424\n",
      "visibility: 0.999273955821991\n",
      ", x: 0.6636191606521606\n",
      "y: 0.4837961196899414\n",
      "z: -2.9418258666992188\n",
      "visibility: 0.9992203712463379\n",
      ", x: 0.6973572969436646\n",
      "y: 0.47903358936309814\n",
      "z: -2.942338466644287\n",
      "visibility: 0.9991840720176697\n",
      "] \n",
      "\n",
      "[x: 0.6423133611679077\n",
      "y: 0.6074835062026978\n",
      "z: -1.6008622646331787\n",
      "visibility: 0.999152660369873\n",
      ", x: 0.6835964918136597\n",
      "y: 0.48367148637771606\n",
      "z: -1.5334956645965576\n",
      "visibility: 0.998835563659668\n",
      ", x: 0.7165015339851379\n",
      "y: 0.4790506064891815\n",
      "z: -1.5334758758544922\n",
      "visibility: 0.9988192319869995\n",
      "] \n",
      "\n",
      "[x: 0.6581348776817322\n",
      "y: 0.6019442677497864\n",
      "z: -1.4055664539337158\n",
      "visibility: 0.9985482692718506\n",
      ", x: 0.703527569770813\n",
      "y: 0.48381727933883667\n",
      "z: -1.340063452720642\n",
      "visibility: 0.997256338596344\n",
      ", x: 0.7349268794059753\n",
      "y: 0.4798763394355774\n",
      "z: -1.3400347232818604\n",
      "visibility: 0.997198760509491\n",
      "] \n",
      "\n",
      "[x: 0.673572301864624\n",
      "y: 0.5938259959220886\n",
      "z: -1.5138858556747437\n",
      "visibility: 0.9979279637336731\n",
      ", x: 0.7196994423866272\n",
      "y: 0.4835663437843323\n",
      "z: -1.4391824007034302\n",
      "visibility: 0.9957559108734131\n",
      ", x: 0.7483913898468018\n",
      "y: 0.47987908124923706\n",
      "z: -1.439124345779419\n",
      "visibility: 0.9953833818435669\n",
      "] \n",
      "\n",
      "[x: 0.6804015636444092\n",
      "y: 0.5886415839195251\n",
      "z: -1.388681411743164\n",
      "visibility: 0.9974993467330933\n",
      ", x: 0.725786566734314\n",
      "y: 0.4822905659675598\n",
      "z: -1.3188673257827759\n",
      "visibility: 0.994658887386322\n",
      ", x: 0.7542610764503479\n",
      "y: 0.4792250096797943\n",
      "z: -1.3188992738723755\n",
      "visibility: 0.9941667318344116\n",
      "] \n",
      "\n",
      "[x: 0.6827715635299683\n",
      "y: 0.5854528546333313\n",
      "z: -1.3763090372085571\n",
      "visibility: 0.9974853992462158\n",
      ", x: 0.7285835146903992\n",
      "y: 0.4813850224018097\n",
      "z: -1.3089756965637207\n",
      "visibility: 0.9946150183677673\n",
      ", x: 0.7580262422561646\n",
      "y: 0.47866398096084595\n",
      "z: -1.3090100288391113\n",
      "visibility: 0.9941214323043823\n",
      "] \n",
      "\n",
      "[x: 0.6831480264663696\n",
      "y: 0.5814903974533081\n",
      "z: -1.4327032566070557\n",
      "visibility: 0.9974226355552673\n",
      ", x: 0.7285770177841187\n",
      "y: 0.47896769642829895\n",
      "z: -1.3614715337753296\n",
      "visibility: 0.9944711923599243\n",
      ", x: 0.7584303617477417\n",
      "y: 0.4770517945289612\n",
      "z: -1.3615832328796387\n",
      "visibility: 0.99395751953125\n",
      "] \n",
      "\n",
      "[x: 0.6816846132278442\n",
      "y: 0.5793015956878662\n",
      "z: -1.4114786386489868\n",
      "visibility: 0.9973463416099548\n",
      ", x: 0.7268778681755066\n",
      "y: 0.4779151678085327\n",
      "z: -1.3463844060897827\n",
      "visibility: 0.9943279027938843\n",
      ", x: 0.7570310831069946\n",
      "y: 0.4763302505016327\n",
      "z: -1.3464750051498413\n",
      "visibility: 0.9938144683837891\n",
      "] \n",
      "\n",
      "[x: 0.6810263395309448\n",
      "y: 0.5795298218727112\n",
      "z: -1.632446050643921\n",
      "visibility: 0.9970489740371704\n",
      ", x: 0.7258874177932739\n",
      "y: 0.47869348526000977\n",
      "z: -1.5679899454116821\n",
      "visibility: 0.9936386942863464\n",
      ", x: 0.7564343214035034\n",
      "y: 0.4770125448703766\n",
      "z: -1.568176507949829\n",
      "visibility: 0.9931570291519165\n",
      "] \n",
      "\n",
      "[x: 0.6856855750083923\n",
      "y: 0.5796485543251038\n",
      "z: -1.645578384399414\n",
      "visibility: 0.9966303706169128\n",
      ", x: 0.7277718782424927\n",
      "y: 0.4787624180316925\n",
      "z: -1.5808857679367065\n",
      "visibility: 0.9927876591682434\n",
      ", x: 0.7578180432319641\n",
      "y: 0.4770260751247406\n",
      "z: -1.5811333656311035\n",
      "visibility: 0.992191731929779\n",
      "] \n",
      "\n"
     ]
    }
   ],
   "source": [
    "cap = cv2.VideoCapture(0)\n",
    "i = 0\n",
    "## Setup mediapipe instance\n",
    "with mp_pose.Pose(min_detection_confidence=0.5, min_tracking_confidence=0.5) as pose:\n",
    "    while cap.isOpened():\n",
    "        ret, frame = cap.read()\n",
    "        \n",
    "        # Recolor image to RGB\n",
    "        image = cv2.cvtColor(frame, cv2.COLOR_BGR2RGB)\n",
    "        image.flags.writeable = False\n",
    "      \n",
    "        # Make detection\n",
    "        results = pose.process(image)\n",
    "    \n",
    "        # Recolor back to BGR\n",
    "        image.flags.writeable = True\n",
    "        image = cv2.cvtColor(image, cv2.COLOR_RGB2BGR)\n",
    "        \n",
    "        # Extract landmarks\n",
    "        if(i<10):\n",
    "            try:\n",
    "                landmarks = results.pose_landmarks.landmark\n",
    "                print(landmarks[:3],'\\n')\n",
    "                i+=1\n",
    "            except:\n",
    "                pass\n",
    "        \n",
    "        \n",
    "        # Render detections\n",
    "        mp_drawing.draw_landmarks(image, results.pose_landmarks, mp_pose.POSE_CONNECTIONS,\n",
    "                                mp_drawing.DrawingSpec(color=(245,117,66), thickness=2, circle_radius=2), \n",
    "                                mp_drawing.DrawingSpec(color=(245,66,230), thickness=2, circle_radius=2) \n",
    "                                 )               \n",
    "\n",
    "        cv2.imshow('Mediapipe Feed', image)\n",
    "\n",
    "        if cv2.waitKey(10) & 0xFF == ord('q'):\n",
    "            break\n",
    "\n",
    "    cap.release()\n",
    "    cv2.destroyAllWindows()"
   ]
  },
  {
   "cell_type": "markdown",
   "metadata": {},
   "source": [
    "Number of landmarks detected"
   ]
  },
  {
   "cell_type": "code",
   "execution_count": 11,
   "metadata": {},
   "outputs": [
    {
     "data": {
      "text/plain": [
       "33"
      ]
     },
     "execution_count": 11,
     "metadata": {},
     "output_type": "execute_result"
    }
   ],
   "source": [
    "len(landmarks)"
   ]
  },
  {
   "cell_type": "markdown",
   "metadata": {},
   "source": [
    "The landmarks in question"
   ]
  },
  {
   "cell_type": "code",
   "execution_count": 12,
   "metadata": {},
   "outputs": [
    {
     "name": "stdout",
     "output_type": "stream",
     "text": [
      "PoseLandmark.NOSE\n",
      "PoseLandmark.LEFT_EYE_INNER\n",
      "PoseLandmark.LEFT_EYE\n",
      "PoseLandmark.LEFT_EYE_OUTER\n",
      "PoseLandmark.RIGHT_EYE_INNER\n",
      "PoseLandmark.RIGHT_EYE\n",
      "PoseLandmark.RIGHT_EYE_OUTER\n",
      "PoseLandmark.LEFT_EAR\n",
      "PoseLandmark.RIGHT_EAR\n",
      "PoseLandmark.MOUTH_LEFT\n",
      "PoseLandmark.MOUTH_RIGHT\n",
      "PoseLandmark.LEFT_SHOULDER\n",
      "PoseLandmark.RIGHT_SHOULDER\n",
      "PoseLandmark.LEFT_ELBOW\n",
      "PoseLandmark.RIGHT_ELBOW\n",
      "PoseLandmark.LEFT_WRIST\n",
      "PoseLandmark.RIGHT_WRIST\n",
      "PoseLandmark.LEFT_PINKY\n",
      "PoseLandmark.RIGHT_PINKY\n",
      "PoseLandmark.LEFT_INDEX\n",
      "PoseLandmark.RIGHT_INDEX\n",
      "PoseLandmark.LEFT_THUMB\n",
      "PoseLandmark.RIGHT_THUMB\n",
      "PoseLandmark.LEFT_HIP\n",
      "PoseLandmark.RIGHT_HIP\n",
      "PoseLandmark.LEFT_KNEE\n",
      "PoseLandmark.RIGHT_KNEE\n",
      "PoseLandmark.LEFT_ANKLE\n",
      "PoseLandmark.RIGHT_ANKLE\n",
      "PoseLandmark.LEFT_HEEL\n",
      "PoseLandmark.RIGHT_HEEL\n",
      "PoseLandmark.LEFT_FOOT_INDEX\n",
      "PoseLandmark.RIGHT_FOOT_INDEX\n"
     ]
    }
   ],
   "source": [
    "for lndmrk in mp_pose.PoseLandmark:\n",
    "    print(lndmrk)"
   ]
  },
  {
   "cell_type": "code",
   "execution_count": 13,
   "metadata": {},
   "outputs": [
    {
     "data": {
      "text/plain": [
       "0.8939655423164368"
      ]
     },
     "execution_count": 13,
     "metadata": {},
     "output_type": "execute_result"
    }
   ],
   "source": [
    "landmarks[mp_pose.PoseLandmark.LEFT_SHOULDER.value].visibility"
   ]
  },
  {
   "cell_type": "code",
   "execution_count": 14,
   "metadata": {},
   "outputs": [
    {
     "data": {
      "text/plain": [
       "x: 0.9814602732658386\n",
       "y: 1.2598265409469604\n",
       "z: -1.539099931716919\n",
       "visibility: 0.13869909942150116"
      ]
     },
     "execution_count": 14,
     "metadata": {},
     "output_type": "execute_result"
    }
   ],
   "source": [
    "landmarks[mp_pose.PoseLandmark.LEFT_ELBOW.value]"
   ]
  },
  {
   "cell_type": "code",
   "execution_count": 15,
   "metadata": {},
   "outputs": [
    {
     "data": {
      "text/plain": [
       "x: 0.7803304195404053\n",
       "y: 1.2720619440078735\n",
       "z: -1.3940781354904175\n",
       "visibility: 0.05170412361621857"
      ]
     },
     "execution_count": 15,
     "metadata": {},
     "output_type": "execute_result"
    }
   ],
   "source": [
    "landmarks[mp_pose.PoseLandmark.LEFT_WRIST.value]"
   ]
  },
  {
   "cell_type": "markdown",
   "metadata": {},
   "source": [
    "#### 1.4 get the angle formed by three joins"
   ]
  },
  {
   "cell_type": "code",
   "execution_count": null,
   "metadata": {},
   "outputs": [],
   "source": [
    "def calculate_angle(a,b,c):\n",
    "    a = np.array(a) # First\n",
    "    b = np.array(b) # Mid\n",
    "    c = np.array(c) # End\n",
    "    \n",
    "    radians = np.arctan2(c[1]-b[1], c[0]-b[0]) - np.arctan2(a[1]-b[1], a[0]-b[0])\n",
    "    angle = np.abs(radians*180.0/np.pi)\n",
    "    \n",
    "    if angle >180.0:\n",
    "        angle = 360-angle\n",
    "    return angle "
   ]
  },
  {
   "cell_type": "code",
   "execution_count": 17,
   "metadata": {},
   "outputs": [],
   "source": [
    "shoulder = [landmarks[mp_pose.PoseLandmark.LEFT_SHOULDER.value].x,landmarks[mp_pose.PoseLandmark.LEFT_SHOULDER.value].y]\n",
    "elbow = [landmarks[mp_pose.PoseLandmark.LEFT_ELBOW.value].x,landmarks[mp_pose.PoseLandmark.LEFT_ELBOW.value].y]\n",
    "wrist = [landmarks[mp_pose.PoseLandmark.LEFT_WRIST.value].x,landmarks[mp_pose.PoseLandmark.LEFT_WRIST.value].y]"
   ]
  },
  {
   "cell_type": "code",
   "execution_count": 18,
   "metadata": {},
   "outputs": [
    {
     "data": {
      "text/plain": [
       "([0.8521538972854614, 1.0369194746017456],\n",
       " [0.9814602732658386, 1.2598265409469604],\n",
       " [0.7803304195404053, 1.2720619440078735])"
      ]
     },
     "execution_count": 18,
     "metadata": {},
     "output_type": "execute_result"
    }
   ],
   "source": [
    "shoulder, elbow, wrist"
   ]
  },
  {
   "cell_type": "code",
   "execution_count": 19,
   "metadata": {},
   "outputs": [
    {
     "data": {
      "text/plain": [
       "63.36357111670236"
      ]
     },
     "execution_count": 19,
     "metadata": {},
     "output_type": "execute_result"
    }
   ],
   "source": [
    "calculate_angle(shoulder, elbow, wrist)"
   ]
  },
  {
   "cell_type": "code",
   "execution_count": 20,
   "metadata": {},
   "outputs": [
    {
     "data": {
      "text/plain": [
       "(628, 604)"
      ]
     },
     "execution_count": 20,
     "metadata": {},
     "output_type": "execute_result"
    }
   ],
   "source": [
    "tuple(np.multiply(elbow, [640, 480]).astype(int))"
   ]
  },
  {
   "cell_type": "markdown",
   "metadata": {},
   "source": [
    "#### 1.5 live computation and printing of the angle on the image"
   ]
  },
  {
   "cell_type": "code",
   "execution_count": 80,
   "metadata": {},
   "outputs": [],
   "source": [
    "cap = cv2.VideoCapture(0)\n",
    "## Setup mediapipe instance\n",
    "with mp_pose.Pose(min_detection_confidence=0.5, min_tracking_confidence=0.5) as pose:\n",
    "    while cap.isOpened():\n",
    "        ret, frame = cap.read()\n",
    "        \n",
    "        # Recolor image to RGB\n",
    "        image = cv2.cvtColor(frame, cv2.COLOR_BGR2RGB)\n",
    "        image.flags.writeable = False\n",
    "      \n",
    "        # Make detection\n",
    "        results = pose.process(image)\n",
    "    \n",
    "        # Recolor back to BGR\n",
    "        image.flags.writeable = True\n",
    "        image = cv2.cvtColor(image, cv2.COLOR_RGB2BGR)\n",
    "        \n",
    "        # Extract landmarks\n",
    "        try:\n",
    "            landmarks = results.pose_landmarks.landmark\n",
    "            \n",
    "            # Get coordinates\n",
    "            shoulder = [landmarks[mp_pose.PoseLandmark.LEFT_SHOULDER.value].x,landmarks[mp_pose.PoseLandmark.LEFT_SHOULDER.value].y]\n",
    "            elbow = [landmarks[mp_pose.PoseLandmark.LEFT_ELBOW.value].x,landmarks[mp_pose.PoseLandmark.LEFT_ELBOW.value].y]\n",
    "            wrist = [landmarks[mp_pose.PoseLandmark.LEFT_WRIST.value].x,landmarks[mp_pose.PoseLandmark.LEFT_WRIST.value].y]\n",
    "            \n",
    "            # Calculate angle\n",
    "            angle = calculate_angle(shoulder, elbow, wrist)\n",
    "            \n",
    "            # Visualize angle\n",
    "            cv2.putText(image, str(angle), \n",
    "                           tuple(np.multiply(elbow, [640, 480]).astype(int)), \n",
    "                           cv2.FONT_HERSHEY_SIMPLEX, 0.5, (255, 255, 255), 2, cv2.LINE_AA\n",
    "                                )\n",
    "                       \n",
    "        except:\n",
    "            pass\n",
    "        \n",
    "        \n",
    "        # Render detections\n",
    "        mp_drawing.draw_landmarks(image, results.pose_landmarks, mp_pose.POSE_CONNECTIONS,\n",
    "                                mp_drawing.DrawingSpec(color=(245,117,66), thickness=2, circle_radius=2), \n",
    "                                mp_drawing.DrawingSpec(color=(245,66,230), thickness=2, circle_radius=2) \n",
    "                                 )               \n",
    "        \n",
    "        cv2.imshow('Mediapipe Feed', image)\n",
    "\n",
    "        if cv2.waitKey(10) & 0xFF == ord('q'):\n",
    "            break\n",
    "\n",
    "    cap.release()\n",
    "    cv2.destroyAllWindows()"
   ]
  },
  {
   "cell_type": "markdown",
   "metadata": {},
   "source": [
    "## 2.My project : Detect fencing positions:"
   ]
  },
  {
   "cell_type": "markdown",
   "metadata": {},
   "source": [
    "Now I want to detect fencing positions at first, we will focus on only three positions witch are:\n",
    "- garde (arm in front bent and no split)\n",
    "- fente (arm in front stretched and split)\n",
    "- ligne (arm in front stretched and no split)\n",
    "\n",
    "ps: fencing is a french sport..."
   ]
  },
  {
   "cell_type": "markdown",
   "metadata": {},
   "source": [
    "#### 2.1.Simple algo:"
   ]
  },
  {
   "cell_type": "markdown",
   "metadata": {},
   "source": [
    "warning : you have to take care of the camera angle!!!\n",
    "\n",
    " - right handed poeple must have the camera in their back\n",
    " - left handed poeple must have it in front of them"
   ]
  },
  {
   "cell_type": "code",
   "execution_count": 81,
   "metadata": {},
   "outputs": [],
   "source": [
    "cap = cv2.VideoCapture(0)\n",
    "\n",
    "# Curl counter variables\n",
    "counter = 0 \n",
    "stage = None\n",
    "\n",
    "## Setup mediapipe instance\n",
    "with mp_pose.Pose(min_detection_confidence=0.5, min_tracking_confidence=0.5) as pose:\n",
    "    while cap.isOpened():\n",
    "        ret, frame = cap.read()\n",
    "        \n",
    "        # Recolor image to RGB\n",
    "        image = cv2.cvtColor(frame, cv2.COLOR_BGR2RGB)\n",
    "        image.flags.writeable = False\n",
    "      \n",
    "        # Make detection\n",
    "        results = pose.process(image)\n",
    "    \n",
    "        # Recolor back to BGR\n",
    "        image.flags.writeable = True\n",
    "        image = cv2.cvtColor(image, cv2.COLOR_RGB2BGR)\n",
    "        \n",
    "        # Extract landmarks\n",
    "        try:\n",
    "            landmarks = results.pose_landmarks.landmark\n",
    "            \n",
    "            # Get coordinates\n",
    "            shoulder = [landmarks[mp_pose.PoseLandmark.LEFT_SHOULDER.value].x,landmarks[mp_pose.PoseLandmark.LEFT_SHOULDER.value].y]\n",
    "            elbow = [landmarks[mp_pose.PoseLandmark.LEFT_ELBOW.value].x,landmarks[mp_pose.PoseLandmark.LEFT_ELBOW.value].y]\n",
    "            wrist = [landmarks[mp_pose.PoseLandmark.LEFT_WRIST.value].x,landmarks[mp_pose.PoseLandmark.LEFT_WRIST.value].y]\n",
    "            \n",
    "            right_foot  = [landmarks[mp_pose.PoseLandmark.RIGHT_ANKLE.value].x,landmarks[mp_pose.PoseLandmark.RIGHT_ANKLE.value].y]\n",
    "            left_foot  = [landmarks[mp_pose.PoseLandmark.LEFT_ANKLE.value].x,landmarks[mp_pose.PoseLandmark.LEFT_ANKLE.value].y]\n",
    "            left_hip  = [landmarks[mp_pose.PoseLandmark.LEFT_HIP.value].x,landmarks[mp_pose.PoseLandmark.LEFT_HIP.value].y]\n",
    "            \n",
    "    \n",
    "            \n",
    "            # Calculate angle\n",
    "            angle_arm = calculate_angle(shoulder, elbow, wrist)\n",
    "            angle_legs = calculate_angle(right_foot, left_hip, left_foot)\n",
    "            \n",
    "            # Visualize angle\n",
    "            cv2.putText(image, str(angle_arm), \n",
    "                           tuple(np.multiply(elbow, [640, 480]).astype(int)), \n",
    "                           cv2.FONT_HERSHEY_SIMPLEX, 0.5, (255, 255, 255), 2, cv2.LINE_AA\n",
    "                                )\n",
    "            \n",
    "            cv2.putText(image, str(angle_legs), \n",
    "                           tuple(np.multiply(left_hip, [640, 480]).astype(int)), \n",
    "                           cv2.FONT_HERSHEY_SIMPLEX, 0.5, (255, 255, 255), 2, cv2.LINE_AA\n",
    "                                )\n",
    "            \n",
    "            \n",
    "            \n",
    "            # fencing position logic(~)\n",
    "            \n",
    "            \n",
    "            if angle_arm > 130:\n",
    "                arm_indic = \"stretched\"\n",
    "            else :\n",
    "                arm_indic='bent'\n",
    "                \n",
    "            if angle_legs > 55:\n",
    "                legs_indic = \"split\"\n",
    "            else :\n",
    "                legs_indic='no-split'\n",
    "                \n",
    "            if(arm_indic=='bent' and legs_indic=='no-split'):\n",
    "                position = 'garde'\n",
    "            elif(arm_indic=='stretched' and legs_indic=='no-split'):\n",
    "                position = 'ligne'\n",
    "            elif(arm_indic=='stretched' and legs_indic=='split'):\n",
    "                position = 'fente'\n",
    "                       \n",
    "        except:\n",
    "            pass\n",
    "        \n",
    "        # Render curl counter\n",
    "        # Setup status box\n",
    "        cv2.rectangle(image, (0,0), (400,50), (185,127,108), -1)\n",
    "        \n",
    "        \n",
    "        # Stage data\n",
    "        cv2.putText(image, 'arm indicator:', (5,15), \n",
    "                    cv2.FONT_HERSHEY_SIMPLEX, 0.5, (0,0,0), 1, cv2.LINE_AA)\n",
    "        cv2.putText(image, arm_indic, \n",
    "                    (5,33), \n",
    "                    cv2.FONT_HERSHEY_SIMPLEX, 0.5, (255,255,255), 1, cv2.LINE_AA)\n",
    "        \n",
    "        cv2.putText(image, 'legs indicator:', (130,15), \n",
    "                    cv2.FONT_HERSHEY_SIMPLEX, 0.5, (0,0,0), 1, cv2.LINE_AA)\n",
    "        cv2.putText(image, legs_indic, \n",
    "                    (130,33), \n",
    "                    cv2.FONT_HERSHEY_SIMPLEX, 0.5, (255,255,255), 1, cv2.LINE_AA)\n",
    "        \n",
    "        cv2.putText(image, 'position:', (265,15), \n",
    "                    cv2.FONT_HERSHEY_SIMPLEX, 0.5, (0,0,0), 1, cv2.LINE_AA)\n",
    "        cv2.putText(image, position, \n",
    "                    (265,33), \n",
    "                    cv2.FONT_HERSHEY_SIMPLEX, 0.5, (255,255,255), 1, cv2.LINE_AA)\n",
    "        \n",
    "        \n",
    "        # Render detections\n",
    "        mp_drawing.draw_landmarks(image, results.pose_landmarks, mp_pose.POSE_CONNECTIONS,\n",
    "                                mp_drawing.DrawingSpec(color=(245,117,66), thickness=2, circle_radius=2), \n",
    "                                mp_drawing.DrawingSpec(color=(245,66,230), thickness=2, circle_radius=2) \n",
    "                                 )               \n",
    "        \n",
    "        cv2.imshow('Mediapipe Feed', image)\n",
    "\n",
    "        if cv2.waitKey(10) & 0xFF == ord('q'):\n",
    "            break\n",
    "\n",
    "    cap.release()\n",
    "    cv2.destroyAllWindows()"
   ]
  },
  {
   "cell_type": "markdown",
   "metadata": {},
   "source": [
    "As you can see the simple algo aproach is working pretty well. Eventhought I think it can be improved by using ML or DL methods.\n",
    "\n",
    "But in order to do so, a lot of work is still ahead such as create a dataset with labeled data and a model robust and fast enough to be used in live."
   ]
  }
 ],
 "metadata": {
  "kernelspec": {
   "display_name": "Python 3 (ipykernel)",
   "language": "python",
   "name": "python3"
  },
  "language_info": {
   "codemirror_mode": {
    "name": "ipython",
    "version": 3
   },
   "file_extension": ".py",
   "mimetype": "text/x-python",
   "name": "python",
   "nbconvert_exporter": "python",
   "pygments_lexer": "ipython3",
   "version": "3.9.7"
  }
 },
 "nbformat": 4,
 "nbformat_minor": 2
}
